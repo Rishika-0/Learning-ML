{
 "cells": [
  {
   "cell_type": "code",
   "execution_count": 26,
   "id": "ec10739a",
   "metadata": {},
   "outputs": [],
   "source": [
    "import pandas as pd"
   ]
  },
  {
   "cell_type": "code",
   "execution_count": 27,
   "id": "7df9b7c6",
   "metadata": {},
   "outputs": [],
   "source": [
    "df=pd.read_csv('weather data.csv')"
   ]
  },
  {
   "cell_type": "code",
   "execution_count": 28,
   "id": "db81223c",
   "metadata": {},
   "outputs": [
    {
     "data": {
      "text/html": [
       "<div>\n",
       "<style scoped>\n",
       "    .dataframe tbody tr th:only-of-type {\n",
       "        vertical-align: middle;\n",
       "    }\n",
       "\n",
       "    .dataframe tbody tr th {\n",
       "        vertical-align: top;\n",
       "    }\n",
       "\n",
       "    .dataframe thead th {\n",
       "        text-align: right;\n",
       "    }\n",
       "</style>\n",
       "<table border=\"1\" class=\"dataframe\">\n",
       "  <thead>\n",
       "    <tr style=\"text-align: right;\">\n",
       "      <th></th>\n",
       "      <th>Day</th>\n",
       "      <th>Max Temperature</th>\n",
       "      <th>Min Temperature</th>\n",
       "      <th>Windspeed</th>\n",
       "      <th>Humidity</th>\n",
       "      <th>Event</th>\n",
       "    </tr>\n",
       "  </thead>\n",
       "  <tbody>\n",
       "    <tr>\n",
       "      <th>0</th>\n",
       "      <td>Monday</td>\n",
       "      <td>18</td>\n",
       "      <td>10</td>\n",
       "      <td>10</td>\n",
       "      <td>80</td>\n",
       "      <td>Rain</td>\n",
       "    </tr>\n",
       "    <tr>\n",
       "      <th>1</th>\n",
       "      <td>Tuesday</td>\n",
       "      <td>19</td>\n",
       "      <td>13</td>\n",
       "      <td>14</td>\n",
       "      <td>89</td>\n",
       "      <td>Thunderstorm</td>\n",
       "    </tr>\n",
       "    <tr>\n",
       "      <th>2</th>\n",
       "      <td>Wednesday</td>\n",
       "      <td>20</td>\n",
       "      <td>12</td>\n",
       "      <td>8</td>\n",
       "      <td>78</td>\n",
       "      <td>Rain</td>\n",
       "    </tr>\n",
       "    <tr>\n",
       "      <th>3</th>\n",
       "      <td>Thursday</td>\n",
       "      <td>20</td>\n",
       "      <td>8</td>\n",
       "      <td>14</td>\n",
       "      <td>55</td>\n",
       "      <td>Sunny</td>\n",
       "    </tr>\n",
       "    <tr>\n",
       "      <th>4</th>\n",
       "      <td>Firday</td>\n",
       "      <td>21</td>\n",
       "      <td>7</td>\n",
       "      <td>18</td>\n",
       "      <td>70</td>\n",
       "      <td>Fog</td>\n",
       "    </tr>\n",
       "    <tr>\n",
       "      <th>5</th>\n",
       "      <td>Saturday</td>\n",
       "      <td>16</td>\n",
       "      <td>11</td>\n",
       "      <td>11</td>\n",
       "      <td>64</td>\n",
       "      <td>Fog</td>\n",
       "    </tr>\n",
       "    <tr>\n",
       "      <th>6</th>\n",
       "      <td>Sunday</td>\n",
       "      <td>21</td>\n",
       "      <td>12</td>\n",
       "      <td>14</td>\n",
       "      <td>61</td>\n",
       "      <td>Rain</td>\n",
       "    </tr>\n",
       "  </tbody>\n",
       "</table>\n",
       "</div>"
      ],
      "text/plain": [
       "         Day  Max Temperature  Min Temperature  Windspeed  Humidity  \\\n",
       "0     Monday               18               10         10        80   \n",
       "1    Tuesday               19               13         14        89   \n",
       "2  Wednesday               20               12          8        78   \n",
       "3   Thursday               20                8         14        55   \n",
       "4     Firday               21                7         18        70   \n",
       "5   Saturday               16               11         11        64   \n",
       "6     Sunday               21               12         14        61   \n",
       "\n",
       "          Event  \n",
       "0          Rain  \n",
       "1  Thunderstorm  \n",
       "2          Rain  \n",
       "3         Sunny  \n",
       "4           Fog  \n",
       "5           Fog  \n",
       "6          Rain  "
      ]
     },
     "execution_count": 28,
     "metadata": {},
     "output_type": "execute_result"
    }
   ],
   "source": [
    "df"
   ]
  },
  {
   "cell_type": "code",
   "execution_count": 29,
   "id": "41e40cf7",
   "metadata": {},
   "outputs": [
    {
     "name": "stdout",
     "output_type": "stream",
     "text": [
      "       Max Temperature  Min Temperature  Windspeed  Humidity\n",
      "count         7.000000         7.000000   7.000000   7.00000\n",
      "mean         19.285714        10.428571  12.714286  71.00000\n",
      "std           1.799471         2.225395   3.302236  11.97219\n",
      "min          16.000000         7.000000   8.000000  55.00000\n",
      "25%          18.500000         9.000000  10.500000  62.50000\n",
      "50%          20.000000        11.000000  14.000000  70.00000\n",
      "75%          20.500000        12.000000  14.000000  79.00000\n",
      "max          21.000000        13.000000  18.000000  89.00000\n"
     ]
    }
   ],
   "source": [
    "print(df.describe())"
   ]
  },
  {
   "cell_type": "code",
   "execution_count": 47,
   "id": "c1ccd4a8",
   "metadata": {},
   "outputs": [
    {
     "name": "stdout",
     "output_type": "stream",
     "text": [
      "135\n"
     ]
    }
   ],
   "source": [
    "Max_Temp=df[\"Max Temperature\"]\n",
    "Min_Temp=df[\"Min Temperature\"]\n",
    "Wind=df[\"Windspeed\"]\n",
    "Humidity=df[\"Humidity\"]"
   ]
  },
  {
   "cell_type": "code",
   "execution_count": 53,
   "id": "77d355a4",
   "metadata": {},
   "outputs": [],
   "source": [
    "def des(l):\n",
    "    s=sum(l)\n",
    "    c=len(l)\n",
    "    print(\"Count:\",c)\n",
    "    print(\"Mean:\",s/c)\n",
    "    print(\"Min:\", min(l))\n",
    "    print(\"Max:\", max(l),\"\\n\")"
   ]
  },
  {
   "cell_type": "code",
   "execution_count": 54,
   "id": "205b4bb7",
   "metadata": {},
   "outputs": [
    {
     "name": "stdout",
     "output_type": "stream",
     "text": [
      "Max Temperature:\n",
      "Count: 7\n",
      "Mean: 19.285714285714285\n",
      "Min: 16\n",
      "Max: 21 \n",
      "\n",
      "Min Temperature:\n",
      "Count: 7\n",
      "Mean: 10.428571428571429\n",
      "Min: 7\n",
      "Max: 13 \n",
      "\n",
      "Windspeed:\n",
      "Count: 7\n",
      "Mean: 12.714285714285714\n",
      "Min: 8\n",
      "Max: 18 \n",
      "\n",
      "Humidity:\n",
      "Count: 7\n",
      "Mean: 71.0\n",
      "Min: 55\n",
      "Max: 89 \n",
      "\n"
     ]
    }
   ],
   "source": [
    "print(\"Max Temperature:\")\n",
    "des(df[\"Max Temperature\"])\n",
    "print(\"Min Temperature:\")\n",
    "des(df[\"Min Temperature\"])\n",
    "print(\"Windspeed:\")\n",
    "des(df[\"Windspeed\"])\n",
    "print(\"Humidity:\")\n",
    "des(df[\"Humidity\"])"
   ]
  },
  {
   "cell_type": "code",
   "execution_count": null,
   "id": "1540b32d",
   "metadata": {},
   "outputs": [],
   "source": []
  }
 ],
 "metadata": {
  "kernelspec": {
   "display_name": "Python 3 (ipykernel)",
   "language": "python",
   "name": "python3"
  },
  "language_info": {
   "codemirror_mode": {
    "name": "ipython",
    "version": 3
   },
   "file_extension": ".py",
   "mimetype": "text/x-python",
   "name": "python",
   "nbconvert_exporter": "python",
   "pygments_lexer": "ipython3",
   "version": "3.9.13"
  }
 },
 "nbformat": 4,
 "nbformat_minor": 5
}
