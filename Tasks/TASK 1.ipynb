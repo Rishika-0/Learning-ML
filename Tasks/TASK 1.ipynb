{
 "cells": [
  {
   "cell_type": "code",
   "execution_count": 1,
   "id": "21a0ec03",
   "metadata": {},
   "outputs": [],
   "source": [
    "import numpy as np\n",
    "arr=np.arange(1,10)"
   ]
  },
  {
   "cell_type": "code",
   "execution_count": 2,
   "id": "da51d568",
   "metadata": {},
   "outputs": [
    {
     "name": "stdout",
     "output_type": "stream",
     "text": [
      "1\n",
      "2\n",
      "3\n",
      "4\n",
      "5\n",
      "6\n",
      "7\n",
      "8\n",
      "9\n"
     ]
    }
   ],
   "source": [
    "for i in arr:\n",
    "    print(i)"
   ]
  },
  {
   "cell_type": "markdown",
   "id": "968253b5",
   "metadata": {},
   "source": [
    "# 1-searching an element in an array"
   ]
  },
  {
   "cell_type": "code",
   "execution_count": 3,
   "id": "49f1d958",
   "metadata": {},
   "outputs": [
    {
     "name": "stdout",
     "output_type": "stream",
     "text": [
      "enter the element to be searched6\n",
      "element is present\n"
     ]
    }
   ],
   "source": [
    "n=int(input(\"enter the element to be searched\"))                       \n",
    "for i in arr:\n",
    "    if i==n:\n",
    "        print (\"element is present\")\n",
    "        break\n",
    "else:\n",
    "    print(\"not found\")"
   ]
  },
  {
   "cell_type": "markdown",
   "id": "18cb4721",
   "metadata": {},
   "source": [
    "# 2- finding largest element in an array"
   ]
  },
  {
   "cell_type": "code",
   "execution_count": 4,
   "id": "d0831ee1",
   "metadata": {},
   "outputs": [
    {
     "name": "stdout",
     "output_type": "stream",
     "text": [
      "9\n"
     ]
    }
   ],
   "source": [
    "for i in arr:\n",
    "    l=i\n",
    "    for j in arr:                                                     #try 1\n",
    "        if j>l:\n",
    "            l=j\n",
    "            break\n",
    "print(l)     "
   ]
  },
  {
   "cell_type": "code",
   "execution_count": 5,
   "id": "daec876a",
   "metadata": {},
   "outputs": [
    {
     "name": "stdout",
     "output_type": "stream",
     "text": [
      "9\n"
     ]
    }
   ],
   "source": [
    "l=arr[0]\n",
    "for i in arr:\n",
    "    if i>l:                                                     #try 2\n",
    "        l=i\n",
    "print(l)    "
   ]
  },
  {
   "cell_type": "markdown",
   "id": "c1268dfa",
   "metadata": {},
   "source": [
    "# 3- finding smallest element in an array"
   ]
  },
  {
   "cell_type": "code",
   "execution_count": 6,
   "id": "1b5d1ce3",
   "metadata": {},
   "outputs": [
    {
     "name": "stdout",
     "output_type": "stream",
     "text": [
      "1\n"
     ]
    }
   ],
   "source": [
    "s=arr[0]\n",
    "for i in arr:                                               #3rd program\n",
    "    if i<s:\n",
    "        s=i\n",
    "print(s)  "
   ]
  },
  {
   "cell_type": "code",
   "execution_count": 7,
   "id": "6b22b21d",
   "metadata": {},
   "outputs": [
    {
     "data": {
      "text/plain": [
       "9"
      ]
     },
     "execution_count": 7,
     "metadata": {},
     "output_type": "execute_result"
    }
   ],
   "source": [
    "len(arr)"
   ]
  },
  {
   "cell_type": "markdown",
   "id": "bee4ee32",
   "metadata": {},
   "source": [
    "# 4- reversing an array"
   ]
  },
  {
   "cell_type": "code",
   "execution_count": 8,
   "id": "dace1e1c",
   "metadata": {},
   "outputs": [
    {
     "name": "stdout",
     "output_type": "stream",
     "text": [
      "[9 8 7 6 5 4 3 2 1]\n"
     ]
    }
   ],
   "source": [
    "for i in range(0,len(arr)):\n",
    "    t=arr[0]\n",
    "    for j in range(1,len(arr)-i):                     #4th program\n",
    "        arr[j-1]=arr[j]\n",
    "        arr[j]=t\n",
    "print(arr)        "
   ]
  },
  {
   "cell_type": "markdown",
   "id": "b760c1d2",
   "metadata": {},
   "source": [
    "# "
   ]
  },
  {
   "cell_type": "code",
   "execution_count": 11,
   "id": "8515db77",
   "metadata": {},
   "outputs": [
    {
     "name": "stdout",
     "output_type": "stream",
     "text": [
      "enter the k'th value5\n",
      "[5 6 7 8 9 4 3 2 1]\n"
     ]
    }
   ],
   "source": [
    "k=int(input(\"enter the k'th value\"))                           #program 5\n",
    "for i in range(0,k):            \n",
    "    r=arr[0]                                                    #reversing from k'th position\n",
    "    for j in range(1,k-i):\n",
    "        arr[j-1]=arr[j]\n",
    "        arr[j]=r\n",
    "print(arr)        "
   ]
  },
  {
   "cell_type": "markdown",
   "id": "61bbdb3c",
   "metadata": {},
   "source": [
    "#  5-Reversing an array from k'th position"
   ]
  },
  {
   "cell_type": "code",
   "execution_count": 1,
   "id": "64cebe09",
   "metadata": {},
   "outputs": [],
   "source": [
    "def rotate(arr,n,k):\n",
    "    k=k%n\n",
    "    for i in range(k):\n",
    "        t=arr[n-1]\n",
    "        for j in range(n-1,0,-1):\n",
    "            arr[j]=arr[j-1]\n",
    "        arr[0]=t\n",
    "    return arr    "
   ]
  },
  {
   "cell_type": "markdown",
   "id": "8b12f1e4",
   "metadata": {},
   "source": [
    "#  Reversing an array (try 2) "
   ]
  },
  {
   "cell_type": "code",
   "execution_count": 29,
   "id": "e44f9f75",
   "metadata": {},
   "outputs": [
    {
     "name": "stdout",
     "output_type": "stream",
     "text": [
      "[9 8 7 6 4 3 2 1 5]\n"
     ]
    }
   ],
   "source": [
    "l=len(arr)\n",
    "n=int(l/2)                         #by diving array in two parts from middle and exchanging values\n",
    "l=l-1\n",
    "for i in range(n):\n",
    "    t=arr[i]\n",
    "    arr[i]=arr[l-i]\n",
    "    arr[l-i]=t\n",
    "print(arr)        "
   ]
  },
  {
   "cell_type": "code",
   "execution_count": 27,
   "id": "55afdf46",
   "metadata": {},
   "outputs": [
    {
     "name": "stdout",
     "output_type": "stream",
     "text": [
      "0\n",
      "1\n",
      "2\n",
      "3\n",
      "0\n",
      "1\n",
      "2\n",
      "3\n"
     ]
    }
   ],
   "source": [
    "n=4\n",
    "for i in range(n):\n",
    "    print(i)\n",
    "for i in range(0,n):\n",
    "    print(i)"
   ]
  },
  {
   "cell_type": "code",
   "execution_count": null,
   "id": "45e33f0b",
   "metadata": {},
   "outputs": [],
   "source": []
  }
 ],
 "metadata": {
  "kernelspec": {
   "display_name": "Python 3 (ipykernel)",
   "language": "python",
   "name": "python3"
  },
  "language_info": {
   "codemirror_mode": {
    "name": "ipython",
    "version": 3
   },
   "file_extension": ".py",
   "mimetype": "text/x-python",
   "name": "python",
   "nbconvert_exporter": "python",
   "pygments_lexer": "ipython3",
   "version": "3.9.13"
  }
 },
 "nbformat": 4,
 "nbformat_minor": 5
}
