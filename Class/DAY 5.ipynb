{
 "cells": [
  {
   "cell_type": "markdown",
   "id": "f4377118",
   "metadata": {},
   "source": [
    "# Basic syntax of a function\n",
    "def function_name(arg1,arg2)"
   ]
  },
  {
   "cell_type": "code",
   "execution_count": 3,
   "id": "d5675fb9",
   "metadata": {},
   "outputs": [],
   "source": [
    "def add(a,b):              # when defining a and b are called parameters and while calling they are arguments\n",
    "    print(a+b)"
   ]
  },
  {
   "cell_type": "code",
   "execution_count": 4,
   "id": "e151c906",
   "metadata": {},
   "outputs": [
    {
     "name": "stdout",
     "output_type": "stream",
     "text": [
      "25\n"
     ]
    }
   ],
   "source": [
    "add(12,13)"
   ]
  },
  {
   "cell_type": "code",
   "execution_count": 5,
   "id": "1541ce7d",
   "metadata": {},
   "outputs": [],
   "source": [
    "def add3(a,b):\n",
    "    c=a+b\n",
    "    print(c)"
   ]
  },
  {
   "cell_type": "code",
   "execution_count": 6,
   "id": "a6bd83ef",
   "metadata": {},
   "outputs": [
    {
     "name": "stdout",
     "output_type": "stream",
     "text": [
      "SuyashHimanshu\n"
     ]
    }
   ],
   "source": [
    "add3(\"Suyash\",\"Himanshu\")"
   ]
  },
  {
   "cell_type": "code",
   "execution_count": 7,
   "id": "5af4aea3",
   "metadata": {},
   "outputs": [
    {
     "name": "stdout",
     "output_type": "stream",
     "text": [
      "SuyashHimanshu\n"
     ]
    }
   ],
   "source": [
    "add(\"Suyash\",\"Himanshu\")"
   ]
  },
  {
   "cell_type": "code",
   "execution_count": 8,
   "id": "2d6c9a73",
   "metadata": {},
   "outputs": [],
   "source": [
    "c=10\n",
    "def add4(a,b):\n",
    "    c=9"
   ]
  },
  {
   "cell_type": "code",
   "execution_count": 9,
   "id": "6664e7e4",
   "metadata": {},
   "outputs": [],
   "source": [
    "add4(1,2)"
   ]
  },
  {
   "cell_type": "code",
   "execution_count": 10,
   "id": "2525f9fb",
   "metadata": {},
   "outputs": [
    {
     "data": {
      "text/plain": [
       "10"
      ]
     },
     "execution_count": 10,
     "metadata": {},
     "output_type": "execute_result"
    }
   ],
   "source": [
    "c      # c is having a global value equal to 10"
   ]
  },
  {
   "cell_type": "code",
   "execution_count": 55,
   "id": "9ac85cc4",
   "metadata": {},
   "outputs": [],
   "source": [
    "def prime(a):\n",
    "    c=0\n",
    "    for i in range(2,a):\n",
    "        if a%i==0:\n",
    "            c=1\n",
    "        print(c)\n",
    "        \n",
    "    if c==0:\n",
    "        print(\"prime\")\n",
    "    else:\n",
    "        print (\"not prime\")"
   ]
  },
  {
   "cell_type": "code",
   "execution_count": 56,
   "id": "c2fed008",
   "metadata": {},
   "outputs": [
    {
     "name": "stdout",
     "output_type": "stream",
     "text": [
      "prime\n"
     ]
    }
   ],
   "source": [
    "prime(2)"
   ]
  },
  {
   "cell_type": "code",
   "execution_count": 57,
   "id": "6048873e",
   "metadata": {},
   "outputs": [
    {
     "name": "stdout",
     "output_type": "stream",
     "text": [
      "1\n",
      "1\n",
      "1\n",
      "1\n",
      "not prime\n"
     ]
    }
   ],
   "source": [
    "prime(6)"
   ]
  },
  {
   "cell_type": "code",
   "execution_count": 58,
   "id": "1bf29487",
   "metadata": {},
   "outputs": [
    {
     "name": "stdout",
     "output_type": "stream",
     "text": [
      "0\n",
      "0\n",
      "0\n",
      "prime\n"
     ]
    }
   ],
   "source": [
    "prime(5)"
   ]
  },
  {
   "cell_type": "code",
   "execution_count": 59,
   "id": "7620f989",
   "metadata": {},
   "outputs": [],
   "source": [
    "def prime(a):\n",
    "    c=0\n",
    "    for i in range(2,a):\n",
    "        if a%i == 0:\n",
    "            c+=1\n",
    "    if c>0 :\n",
    "        return False \n",
    "    else :\n",
    "        return True \n",
    "    \n",
    "        "
   ]
  },
  {
   "cell_type": "code",
   "execution_count": 60,
   "id": "8e1052ca",
   "metadata": {},
   "outputs": [
    {
     "data": {
      "text/plain": [
       "True"
      ]
     },
     "execution_count": 60,
     "metadata": {},
     "output_type": "execute_result"
    }
   ],
   "source": [
    "prime(5)"
   ]
  },
  {
   "cell_type": "code",
   "execution_count": 61,
   "id": "f8e5482d",
   "metadata": {},
   "outputs": [
    {
     "data": {
      "text/plain": [
       "True"
      ]
     },
     "execution_count": 61,
     "metadata": {},
     "output_type": "execute_result"
    }
   ],
   "source": [
    "prime(2)"
   ]
  },
  {
   "cell_type": "code",
   "execution_count": 71,
   "id": "0065fb6f",
   "metadata": {},
   "outputs": [],
   "source": [
    "def prime():\n",
    "    for i in range(1,101):\n",
    "        c=0\n",
    "        for j in range(2,i):\n",
    "            if i%j==0:\n",
    "                print(i,\"=not prime\")\n",
    "                c=1\n",
    "                break\n",
    "        if c==0:\n",
    "            print(i,\"=prime\")"
   ]
  },
  {
   "cell_type": "code",
   "execution_count": 72,
   "id": "88a62350",
   "metadata": {},
   "outputs": [
    {
     "name": "stdout",
     "output_type": "stream",
     "text": [
      "1 =prime\n",
      "2 =prime\n",
      "3 =prime\n",
      "4 =not prime\n",
      "5 =prime\n",
      "6 =not prime\n",
      "7 =prime\n",
      "8 =not prime\n",
      "9 =not prime\n",
      "10 =not prime\n",
      "11 =prime\n",
      "12 =not prime\n",
      "13 =prime\n",
      "14 =not prime\n",
      "15 =not prime\n",
      "16 =not prime\n",
      "17 =prime\n",
      "18 =not prime\n",
      "19 =prime\n",
      "20 =not prime\n",
      "21 =not prime\n",
      "22 =not prime\n",
      "23 =prime\n",
      "24 =not prime\n",
      "25 =not prime\n",
      "26 =not prime\n",
      "27 =not prime\n",
      "28 =not prime\n",
      "29 =prime\n",
      "30 =not prime\n",
      "31 =prime\n",
      "32 =not prime\n",
      "33 =not prime\n",
      "34 =not prime\n",
      "35 =not prime\n",
      "36 =not prime\n",
      "37 =prime\n",
      "38 =not prime\n",
      "39 =not prime\n",
      "40 =not prime\n",
      "41 =prime\n",
      "42 =not prime\n",
      "43 =prime\n",
      "44 =not prime\n",
      "45 =not prime\n",
      "46 =not prime\n",
      "47 =prime\n",
      "48 =not prime\n",
      "49 =not prime\n",
      "50 =not prime\n",
      "51 =not prime\n",
      "52 =not prime\n",
      "53 =prime\n",
      "54 =not prime\n",
      "55 =not prime\n",
      "56 =not prime\n",
      "57 =not prime\n",
      "58 =not prime\n",
      "59 =prime\n",
      "60 =not prime\n",
      "61 =prime\n",
      "62 =not prime\n",
      "63 =not prime\n",
      "64 =not prime\n",
      "65 =not prime\n",
      "66 =not prime\n",
      "67 =prime\n",
      "68 =not prime\n",
      "69 =not prime\n",
      "70 =not prime\n",
      "71 =prime\n",
      "72 =not prime\n",
      "73 =prime\n",
      "74 =not prime\n",
      "75 =not prime\n",
      "76 =not prime\n",
      "77 =not prime\n",
      "78 =not prime\n",
      "79 =prime\n",
      "80 =not prime\n",
      "81 =not prime\n",
      "82 =not prime\n",
      "83 =prime\n",
      "84 =not prime\n",
      "85 =not prime\n",
      "86 =not prime\n",
      "87 =not prime\n",
      "88 =not prime\n",
      "89 =prime\n",
      "90 =not prime\n",
      "91 =not prime\n",
      "92 =not prime\n",
      "93 =not prime\n",
      "94 =not prime\n",
      "95 =not prime\n",
      "96 =not prime\n",
      "97 =prime\n",
      "98 =not prime\n",
      "99 =not prime\n",
      "100 =not prime\n"
     ]
    }
   ],
   "source": [
    "prime()"
   ]
  },
  {
   "cell_type": "code",
   "execution_count": null,
   "id": "5ea7f981",
   "metadata": {},
   "outputs": [],
   "source": []
  }
 ],
 "metadata": {
  "kernelspec": {
   "display_name": "Python 3 (ipykernel)",
   "language": "python",
   "name": "python3"
  },
  "language_info": {
   "codemirror_mode": {
    "name": "ipython",
    "version": 3
   },
   "file_extension": ".py",
   "mimetype": "text/x-python",
   "name": "python",
   "nbconvert_exporter": "python",
   "pygments_lexer": "ipython3",
   "version": "3.9.13"
  }
 },
 "nbformat": 4,
 "nbformat_minor": 5
}
