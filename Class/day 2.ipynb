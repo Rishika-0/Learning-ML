{
 "cells": [
  {
   "cell_type": "code",
   "execution_count": 9,
   "id": "608b6f85",
   "metadata": {},
   "outputs": [
    {
     "name": "stdout",
     "output_type": "stream",
     "text": [
      "a is smaller than b\n",
      "artificial intelligence\n",
      "machine learning\n"
     ]
    }
   ],
   "source": [
    "a=23\n",
    "b=45\n",
    "if a<b:\n",
    "    print('a is smaller than b')\n",
    "    print(\"artificial intelligence\")\n",
    "elif a==b:                                      #elif will get skipped if if is false\n",
    "    print(\"a is equal to b\")\n",
    "else:                                           #else work for if\n",
    "    print(\"a is greater than b\")\n",
    "print (\"machine learning\")    "
   ]
  },
  {
   "cell_type": "code",
   "execution_count": 10,
   "id": "0e5178f7",
   "metadata": {},
   "outputs": [
    {
     "name": "stdout",
     "output_type": "stream",
     "text": [
      "we are going right\n"
     ]
    }
   ],
   "source": [
    "a=200\n",
    "b=300\n",
    "c=300\n",
    "if a<b and b==c:\n",
    "    print(\"we are going right\")"
   ]
  },
  {
   "cell_type": "code",
   "execution_count": 11,
   "id": "3804a728",
   "metadata": {},
   "outputs": [
    {
     "name": "stdout",
     "output_type": "stream",
     "text": [
      "more than 10\n",
      "above 100\n"
     ]
    }
   ],
   "source": [
    "if a>10:                                       #nested if\n",
    "    print(\"more than 10\")\n",
    "    if(a>100):\n",
    "        print(\"above 100\")\n",
    "    else:\n",
    "        print(\"above 10 but less than 100\")"
   ]
  },
  {
   "cell_type": "code",
   "execution_count": 19,
   "id": "420c17bc",
   "metadata": {},
   "outputs": [
    {
     "name": "stdout",
     "output_type": "stream",
     "text": [
      "enter3\n",
      "(3+0j)\n"
     ]
    }
   ],
   "source": [
    "x=complex(input(\"enter\"))\n",
    "print (x)"
   ]
  },
  {
   "cell_type": "code",
   "execution_count": 14,
   "id": "1029b26c",
   "metadata": {},
   "outputs": [
    {
     "name": "stdout",
     "output_type": "stream",
     "text": [
      "30\n",
      "30\n"
     ]
    },
    {
     "data": {
      "text/plain": [
       "str"
      ]
     },
     "execution_count": 14,
     "metadata": {},
     "output_type": "execute_result"
    }
   ],
   "source": [
    "x=input()           #by default takes string type\n",
    "print(x)\n",
    "type(x)"
   ]
  },
  {
   "cell_type": "code",
   "execution_count": 15,
   "id": "6751f318",
   "metadata": {},
   "outputs": [
    {
     "name": "stdout",
     "output_type": "stream",
     "text": [
      "334\n",
      "<class 'int'>\n"
     ]
    }
   ],
   "source": [
    "x=int(input(''))     #typecasting\n",
    "x\n",
    "print(type(x))"
   ]
  },
  {
   "cell_type": "code",
   "execution_count": 20,
   "id": "27ecc920",
   "metadata": {},
   "outputs": [
    {
     "name": "stdout",
     "output_type": "stream",
     "text": [
      "10\n",
      "<class 'str'>\n",
      "not equal to 10\n"
     ]
    }
   ],
   "source": [
    "x=input()\n",
    "print(type(x))\n",
    "if x==10:                         #string and integer can't be compared\n",
    "    print(\"equal\")\n",
    "else:\n",
    "    print('not equal to 10')"
   ]
  },
  {
   "cell_type": "code",
   "execution_count": 21,
   "id": "d0f32345",
   "metadata": {},
   "outputs": [],
   "source": [
    "# WORLD'S WORST OPERATING SYSTEM IS WINDOWS"
   ]
  },
  {
   "cell_type": "code",
   "execution_count": 23,
   "id": "e6d5ca7a",
   "metadata": {},
   "outputs": [
    {
     "name": "stdout",
     "output_type": "stream",
     "text": [
      "1\n",
      "2\n",
      "3\n",
      "4\n",
      "5\n"
     ]
    }
   ],
   "source": [
    "i=1               #will be done tommorow\n",
    "while i<6:\n",
    "    print(i)\n",
    "    i+=1"
   ]
  },
  {
   "cell_type": "code",
   "execution_count": null,
   "id": "7f42c910",
   "metadata": {},
   "outputs": [],
   "source": []
  }
 ],
 "metadata": {
  "kernelspec": {
   "display_name": "Python 3 (ipykernel)",
   "language": "python",
   "name": "python3"
  },
  "language_info": {
   "codemirror_mode": {
    "name": "ipython",
    "version": 3
   },
   "file_extension": ".py",
   "mimetype": "text/x-python",
   "name": "python",
   "nbconvert_exporter": "python",
   "pygments_lexer": "ipython3",
   "version": "3.9.13"
  }
 },
 "nbformat": 4,
 "nbformat_minor": 5
}
