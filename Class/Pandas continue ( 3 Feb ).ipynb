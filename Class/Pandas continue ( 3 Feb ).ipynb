{
 "cells": [
  {
   "cell_type": "code",
   "execution_count": 1,
   "id": "04bf8148",
   "metadata": {},
   "outputs": [],
   "source": [
    "import pandas as pd"
   ]
  },
  {
   "cell_type": "code",
   "execution_count": 2,
   "id": "40c53ccf",
   "metadata": {},
   "outputs": [],
   "source": [
    "new_df=pd.read_csv('weather data.csv')"
   ]
  },
  {
   "cell_type": "code",
   "execution_count": 3,
   "id": "4d4720f5",
   "metadata": {},
   "outputs": [
    {
     "data": {
      "text/plain": [
       "['Unnamed: 0',\n",
       " 'day',\n",
       " 'max_temperature',\n",
       " 'min_temperature',\n",
       " 'windspeed',\n",
       " 'humidity',\n",
       " 'event']"
      ]
     },
     "execution_count": 3,
     "metadata": {},
     "output_type": "execute_result"
    }
   ],
   "source": [
    "columns=new_df.columns.tolist()\n",
    "columns"
   ]
  },
  {
   "cell_type": "code",
   "execution_count": 4,
   "id": "f554d059",
   "metadata": {},
   "outputs": [
    {
     "data": {
      "text/plain": [
       "Unnamed: 0          int64\n",
       "day                object\n",
       "max_temperature     int64\n",
       "min_temperature     int64\n",
       "windspeed           int64\n",
       "humidity            int64\n",
       "event              object\n",
       "dtype: object"
      ]
     },
     "execution_count": 4,
     "metadata": {},
     "output_type": "execute_result"
    }
   ],
   "source": [
    "new_df.dtypes"
   ]
  },
  {
   "cell_type": "code",
   "execution_count": 5,
   "id": "a34d0102",
   "metadata": {},
   "outputs": [
    {
     "data": {
      "text/plain": [
       "{'Unnamed: 0': dtype('int64'),\n",
       " 'day': dtype('O'),\n",
       " 'max_temperature': dtype('int64'),\n",
       " 'min_temperature': dtype('int64'),\n",
       " 'windspeed': dtype('int64'),\n",
       " 'humidity': dtype('int64'),\n",
       " 'event': dtype('O')}"
      ]
     },
     "execution_count": 5,
     "metadata": {},
     "output_type": "execute_result"
    }
   ],
   "source": [
    "dtypes=new_df.dtypes.to_dict()\n",
    "dtypes"
   ]
  },
  {
   "cell_type": "code",
   "execution_count": 6,
   "id": "8eea9d60",
   "metadata": {},
   "outputs": [],
   "source": [
    "for keys in dtypes:\n",
    "    if dtypes[keys]=='object':\n",
    "        columns.remove(keys)"
   ]
  },
  {
   "cell_type": "code",
   "execution_count": 7,
   "id": "e4bd97ed",
   "metadata": {},
   "outputs": [
    {
     "data": {
      "text/plain": [
       "['Unnamed: 0', 'max_temperature', 'min_temperature', 'windspeed', 'humidity']"
      ]
     },
     "execution_count": 7,
     "metadata": {},
     "output_type": "execute_result"
    }
   ],
   "source": [
    "columns"
   ]
  },
  {
   "cell_type": "code",
   "execution_count": 21,
   "id": "39bf47e4",
   "metadata": {},
   "outputs": [],
   "source": [
    "def Describe(df):\n",
    "    columns=df.columns.tolist()\n",
    "    dtypes=df.dtypes.to_dict()\n",
    "    #removing columns of type='string'\n",
    "    for keys in dtypes:\n",
    "        if dtypes[keys]==object:\n",
    "            columns.remove(keys)\n",
    "    #empty dictionary\n",
    "    dict={}\n",
    "    dict['stats']='mean'\n",
    "    for col in columns:\n",
    "        S=0\n",
    "        list=df[col].tolist()\n",
    "        n=len(df)\n",
    "        for i in range(len(df)):\n",
    "            S=S+list[i]\n",
    "        mean=S/n\n",
    "        dict[col]=mean\n",
    "    describe=pd.DataFrame(dict,index=(1,1))\n",
    "    print(describe)"
   ]
  },
  {
   "cell_type": "code",
   "execution_count": 22,
   "id": "37dc1913",
   "metadata": {},
   "outputs": [
    {
     "name": "stdout",
     "output_type": "stream",
     "text": [
      "  stats  Unnamed: 0  max_temperature  min_temperature  windspeed  humidity\n",
      "1  mean         4.0        19.285714        11.714286  12.714286      71.0\n",
      "1  mean         4.0        19.285714        11.714286  12.714286      71.0\n",
      "None\n"
     ]
    }
   ],
   "source": [
    "print(Describe(new_df))"
   ]
  },
  {
   "cell_type": "code",
   "execution_count": 18,
   "id": "e28b0d0f",
   "metadata": {},
   "outputs": [
    {
     "data": {
      "text/plain": [
       "7"
      ]
     },
     "execution_count": 18,
     "metadata": {},
     "output_type": "execute_result"
    }
   ],
   "source": [
    "len(new_df)"
   ]
  },
  {
   "cell_type": "code",
   "execution_count": 23,
   "id": "742b80f4",
   "metadata": {},
   "outputs": [],
   "source": [
    "def Describe(df):\n",
    "    columns=df.columns.tolist()\n",
    "    dtypes=df.dtypes.to_dict()\n",
    "    #removing columns of type='string'\n",
    "    for keys in dtypes:\n",
    "        if dtypes[keys]==object:\n",
    "            columns.remove(keys)\n",
    "    #empty dictionary\n",
    "    dict={}\n",
    "    dict['stats']='mean'\n",
    "    for col in columns:\n",
    "        S=0\n",
    "        list=df[col].tolist()\n",
    "        n=len(df)\n",
    "        for i in range(len(df)):\n",
    "            S=S+list[i]\n",
    "        mean=S/n\n",
    "        dict[col]=mean\n",
    "    describe=pd.DataFrame(dict,index=range(1,2))\n",
    "    print(describe)"
   ]
  },
  {
   "cell_type": "code",
   "execution_count": 25,
   "id": "417e6f97",
   "metadata": {},
   "outputs": [
    {
     "name": "stdout",
     "output_type": "stream",
     "text": [
      "  stats  Unnamed: 0  max_temperature  min_temperature  windspeed  humidity\n",
      "1  mean         4.0        19.285714        11.714286  12.714286      71.0\n"
     ]
    }
   ],
   "source": [
    "Describe(new_df)"
   ]
  },
  {
   "cell_type": "code",
   "execution_count": null,
   "id": "08b4a963",
   "metadata": {},
   "outputs": [],
   "source": []
  }
 ],
 "metadata": {
  "kernelspec": {
   "display_name": "Python 3 (ipykernel)",
   "language": "python",
   "name": "python3"
  },
  "language_info": {
   "codemirror_mode": {
    "name": "ipython",
    "version": 3
   },
   "file_extension": ".py",
   "mimetype": "text/x-python",
   "name": "python",
   "nbconvert_exporter": "python",
   "pygments_lexer": "ipython3",
   "version": "3.9.13"
  }
 },
 "nbformat": 4,
 "nbformat_minor": 5
}
