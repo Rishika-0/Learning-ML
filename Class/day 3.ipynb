{
 "cells": [
  {
   "cell_type": "code",
   "execution_count": 2,
   "id": "b7e59404",
   "metadata": {},
   "outputs": [
    {
     "name": "stdout",
     "output_type": "stream",
     "text": [
      "0\n",
      "1\n",
      "2\n",
      "3\n",
      "4\n",
      "5\n",
      "6\n",
      "7\n",
      "8\n",
      "9\n"
     ]
    }
   ],
   "source": [
    "for i in range(10):            #by default runs from 0 to n-1\n",
    "    print(i)"
   ]
  },
  {
   "cell_type": "code",
   "execution_count": 3,
   "id": "94332440",
   "metadata": {},
   "outputs": [],
   "source": [
    "list=[]                      #empty list is created\n"
   ]
  },
  {
   "cell_type": "code",
   "execution_count": 4,
   "id": "9dee22e1",
   "metadata": {},
   "outputs": [
    {
     "data": {
      "text/plain": [
       "[10]"
      ]
     },
     "execution_count": 4,
     "metadata": {},
     "output_type": "execute_result"
    }
   ],
   "source": [
    "list.append(10)              #appends 10 in list\n",
    "list                         #list.(press tab) enables various funtion and shift+tab for viewing working summary"
   ]
  },
  {
   "cell_type": "code",
   "execution_count": 5,
   "id": "8d089480",
   "metadata": {},
   "outputs": [
    {
     "data": {
      "text/plain": [
       "[10, 20]"
      ]
     },
     "execution_count": 5,
     "metadata": {},
     "output_type": "execute_result"
    }
   ],
   "source": [
    "list.append(20)\n",
    "list"
   ]
  },
  {
   "cell_type": "code",
   "execution_count": 6,
   "id": "03318e3d",
   "metadata": {},
   "outputs": [
    {
     "data": {
      "text/plain": [
       "[10, 20, 'innogeeks']"
      ]
     },
     "execution_count": 6,
     "metadata": {},
     "output_type": "execute_result"
    }
   ],
   "source": [
    "list.append(\"innogeeks\")     #needs not to be of a single datatype\n",
    "list"
   ]
  },
  {
   "cell_type": "code",
   "execution_count": 7,
   "id": "aa99375c",
   "metadata": {},
   "outputs": [],
   "source": [
    "#list is combination of array and linglist\n",
    "#list is variable and size is not fixed"
   ]
  },
  {
   "cell_type": "code",
   "execution_count": 8,
   "id": "2a87076f",
   "metadata": {},
   "outputs": [
    {
     "data": {
      "text/plain": [
       "[10, 20, 30, 'innogeeks']"
      ]
     },
     "execution_count": 8,
     "metadata": {},
     "output_type": "execute_result"
    }
   ],
   "source": [
    "list.insert(2,30)\n",
    "list"
   ]
  },
  {
   "cell_type": "code",
   "execution_count": 9,
   "id": "ce045c8d",
   "metadata": {},
   "outputs": [
    {
     "data": {
      "text/plain": [
       "'innogeeks'"
      ]
     },
     "execution_count": 9,
     "metadata": {},
     "output_type": "execute_result"
    }
   ],
   "source": [
    "list.pop()                    #deletes last element"
   ]
  },
  {
   "cell_type": "code",
   "execution_count": 10,
   "id": "130f2989",
   "metadata": {},
   "outputs": [
    {
     "data": {
      "text/plain": [
       "[10, 20, 30]"
      ]
     },
     "execution_count": 10,
     "metadata": {},
     "output_type": "execute_result"
    }
   ],
   "source": [
    "list"
   ]
  },
  {
   "cell_type": "code",
   "execution_count": 12,
   "id": "d90484b7",
   "metadata": {},
   "outputs": [
    {
     "data": {
      "text/plain": [
       "30"
      ]
     },
     "execution_count": 12,
     "metadata": {},
     "output_type": "execute_result"
    }
   ],
   "source": [
    "list.pop()"
   ]
  },
  {
   "cell_type": "code",
   "execution_count": 13,
   "id": "69d1ad81",
   "metadata": {},
   "outputs": [
    {
     "data": {
      "text/plain": [
       "[10, 20]"
      ]
     },
     "execution_count": 13,
     "metadata": {},
     "output_type": "execute_result"
    }
   ],
   "source": [
    "list"
   ]
  },
  {
   "cell_type": "code",
   "execution_count": 14,
   "id": "c17839c9",
   "metadata": {},
   "outputs": [],
   "source": [
    "list.append(40)\n",
    "list.append(\"innogeeks\")"
   ]
  },
  {
   "cell_type": "code",
   "execution_count": 15,
   "id": "fbe22f45",
   "metadata": {},
   "outputs": [
    {
     "data": {
      "text/plain": [
       "40"
      ]
     },
     "execution_count": 15,
     "metadata": {},
     "output_type": "execute_result"
    }
   ],
   "source": [
    "list.pop(2)                 #deletes specified value"
   ]
  },
  {
   "cell_type": "code",
   "execution_count": 16,
   "id": "86563e44",
   "metadata": {},
   "outputs": [
    {
     "data": {
      "text/plain": [
       "[10, 20, 'innogeeks']"
      ]
     },
     "execution_count": 16,
     "metadata": {},
     "output_type": "execute_result"
    }
   ],
   "source": [
    "list"
   ]
  },
  {
   "cell_type": "code",
   "execution_count": 17,
   "id": "e40aa371",
   "metadata": {},
   "outputs": [
    {
     "ename": "TypeError",
     "evalue": "'<' not supported between instances of 'str' and 'int'",
     "output_type": "error",
     "traceback": [
      "\u001b[1;31m---------------------------------------------------------------------------\u001b[0m",
      "\u001b[1;31mTypeError\u001b[0m                                 Traceback (most recent call last)",
      "\u001b[1;32m~\\AppData\\Local\\Temp\\ipykernel_16760\\1389050415.py\u001b[0m in \u001b[0;36m<module>\u001b[1;34m\u001b[0m\n\u001b[1;32m----> 1\u001b[1;33m \u001b[0mlist\u001b[0m\u001b[1;33m.\u001b[0m\u001b[0msort\u001b[0m\u001b[1;33m(\u001b[0m\u001b[1;33m)\u001b[0m\u001b[1;33m\u001b[0m\u001b[1;33m\u001b[0m\u001b[0m\n\u001b[0m",
      "\u001b[1;31mTypeError\u001b[0m: '<' not supported between instances of 'str' and 'int'"
     ]
    }
   ],
   "source": [
    "list.sort()"
   ]
  },
  {
   "cell_type": "code",
   "execution_count": 18,
   "id": "418542df",
   "metadata": {},
   "outputs": [
    {
     "data": {
      "text/plain": [
       "'innogeeks'"
      ]
     },
     "execution_count": 18,
     "metadata": {},
     "output_type": "execute_result"
    }
   ],
   "source": [
    "list.pop()"
   ]
  },
  {
   "cell_type": "code",
   "execution_count": 19,
   "id": "b77f737b",
   "metadata": {},
   "outputs": [],
   "source": [
    "list.append(34)\n",
    "list.append(64)\n",
    "list.append(5)"
   ]
  },
  {
   "cell_type": "code",
   "execution_count": 20,
   "id": "41797cca",
   "metadata": {},
   "outputs": [
    {
     "data": {
      "text/plain": [
       "[10, 20, 34, 64, 5]"
      ]
     },
     "execution_count": 20,
     "metadata": {},
     "output_type": "execute_result"
    }
   ],
   "source": [
    "list"
   ]
  },
  {
   "cell_type": "code",
   "execution_count": 21,
   "id": "1aa93dee",
   "metadata": {},
   "outputs": [],
   "source": [
    "list.sort()"
   ]
  },
  {
   "cell_type": "code",
   "execution_count": 22,
   "id": "5cbc47d1",
   "metadata": {},
   "outputs": [
    {
     "data": {
      "text/plain": [
       "[5, 10, 20, 34, 64]"
      ]
     },
     "execution_count": 22,
     "metadata": {},
     "output_type": "execute_result"
    }
   ],
   "source": [
    "list"
   ]
  },
  {
   "cell_type": "code",
   "execution_count": 25,
   "id": "a3564514",
   "metadata": {},
   "outputs": [
    {
     "data": {
      "text/plain": [
       "[64, 34, 20, 10, 5]"
      ]
     },
     "execution_count": 25,
     "metadata": {},
     "output_type": "execute_result"
    }
   ],
   "source": [
    "list.sort(reverse=True)\n",
    "list"
   ]
  },
  {
   "cell_type": "raw",
   "id": "823544fd",
   "metadata": {},
   "source": [
    "list.sort(key=len)"
   ]
  },
  {
   "cell_type": "code",
   "execution_count": 26,
   "id": "e54fc311",
   "metadata": {},
   "outputs": [
    {
     "ename": "TypeError",
     "evalue": "object of type 'int' has no len()",
     "output_type": "error",
     "traceback": [
      "\u001b[1;31m---------------------------------------------------------------------------\u001b[0m",
      "\u001b[1;31mTypeError\u001b[0m                                 Traceback (most recent call last)",
      "\u001b[1;32m~\\AppData\\Local\\Temp\\ipykernel_16760\\171960373.py\u001b[0m in \u001b[0;36m<module>\u001b[1;34m\u001b[0m\n\u001b[1;32m----> 1\u001b[1;33m \u001b[0mlist\u001b[0m\u001b[1;33m.\u001b[0m\u001b[0msort\u001b[0m\u001b[1;33m(\u001b[0m\u001b[0mkey\u001b[0m\u001b[1;33m=\u001b[0m\u001b[0mlen\u001b[0m\u001b[1;33m)\u001b[0m\u001b[1;33m\u001b[0m\u001b[1;33m\u001b[0m\u001b[0m\n\u001b[0m",
      "\u001b[1;31mTypeError\u001b[0m: object of type 'int' has no len()"
     ]
    }
   ],
   "source": [
    "list.sort(key=len)"
   ]
  },
  {
   "cell_type": "code",
   "execution_count": 27,
   "id": "39405eea",
   "metadata": {},
   "outputs": [],
   "source": [
    "list2=['himanshu','rachitavya','suyash']"
   ]
  },
  {
   "cell_type": "code",
   "execution_count": 34,
   "id": "6ff3fe48",
   "metadata": {},
   "outputs": [
    {
     "data": {
      "text/plain": [
       "['himanshu', 'rachitavya', 'suyash']"
      ]
     },
     "execution_count": 34,
     "metadata": {},
     "output_type": "execute_result"
    }
   ],
   "source": [
    "list2.sort()\n",
    "list2"
   ]
  },
  {
   "cell_type": "code",
   "execution_count": 33,
   "id": "ff4dda62",
   "metadata": {},
   "outputs": [
    {
     "data": {
      "text/plain": [
       "['suyash', 'himanshu', 'rachitavya']"
      ]
     },
     "execution_count": 33,
     "metadata": {},
     "output_type": "execute_result"
    }
   ],
   "source": [
    "list2.sort(key=len)            #use shift+tab on any function\n",
    "list2"
   ]
  },
  {
   "cell_type": "code",
   "execution_count": 35,
   "id": "738e28e5",
   "metadata": {},
   "outputs": [
    {
     "data": {
      "text/plain": [
       "[64, 34, 20, 10, 5, 'himanshu', 'rachitavya', 'suyash']"
      ]
     },
     "execution_count": 35,
     "metadata": {},
     "output_type": "execute_result"
    }
   ],
   "source": [
    "list+list2"
   ]
  },
  {
   "cell_type": "code",
   "execution_count": 36,
   "id": "fb2ec44d",
   "metadata": {},
   "outputs": [
    {
     "data": {
      "text/plain": [
       "[1, 4, 9, 16, 25, 36, 49, 64, 81, 100]"
      ]
     },
     "execution_count": 36,
     "metadata": {},
     "output_type": "execute_result"
    }
   ],
   "source": [
    "list3=[]\n",
    "for i in range(1,11):\n",
    "    list3.append(i**2)\n",
    "list3    "
   ]
  },
  {
   "cell_type": "code",
   "execution_count": 37,
   "id": "96fdd738",
   "metadata": {},
   "outputs": [
    {
     "data": {
      "text/plain": [
       "[1, 8, 27, 64, 125, 216, 343, 512, 729, 1000]"
      ]
     },
     "execution_count": 37,
     "metadata": {},
     "output_type": "execute_result"
    }
   ],
   "source": [
    "list3=[x**3 for x in range(1,11)]\n",
    "list3"
   ]
  },
  {
   "cell_type": "code",
   "execution_count": 63,
   "id": "3b3b399f",
   "metadata": {},
   "outputs": [
    {
     "data": {
      "text/plain": [
       "[(1, 2), (1, 4), (1, 6), (3, 2), (3, 4), (3, 6), (5, 2), (5, 4), (5, 6)]"
      ]
     },
     "execution_count": 63,
     "metadata": {},
     "output_type": "execute_result"
    }
   ],
   "source": [
    "l1=[1,3,5]\n",
    "l2=[2,4,6]\n",
    "list=[]\n",
    "for i in l1:\n",
    "    for j in l2:\n",
    "        list.append((i,j))\n",
    "list        "
   ]
  },
  {
   "cell_type": "code",
   "execution_count": 39,
   "id": "c8b0a279",
   "metadata": {},
   "outputs": [],
   "source": [
    "list=[(x,y) for x in l1 for y in l2]"
   ]
  },
  {
   "cell_type": "code",
   "execution_count": 40,
   "id": "72d5df8a",
   "metadata": {},
   "outputs": [
    {
     "data": {
      "text/plain": [
       "[(1, 2), (1, 4), (1, 6), (3, 2), (3, 4), (3, 6), (5, 2), (5, 4), (5, 6)]"
      ]
     },
     "execution_count": 40,
     "metadata": {},
     "output_type": "execute_result"
    }
   ],
   "source": [
    "list                                     #list of tupples"
   ]
  },
  {
   "cell_type": "code",
   "execution_count": 46,
   "id": "e2acd958",
   "metadata": {},
   "outputs": [
    {
     "data": {
      "text/plain": [
       "3"
      ]
     },
     "execution_count": 46,
     "metadata": {},
     "output_type": "execute_result"
    }
   ],
   "source": [
    "a=[[1,2,3],[4,5,6],[7,8,9]]\n",
    "len(a)                                   #len tells about size(length)"
   ]
  },
  {
   "cell_type": "code",
   "execution_count": 47,
   "id": "8fffe2ab",
   "metadata": {},
   "outputs": [
    {
     "data": {
      "text/plain": [
       "2"
      ]
     },
     "execution_count": 47,
     "metadata": {},
     "output_type": "execute_result"
    }
   ],
   "source": [
    "a[0][1]"
   ]
  },
  {
   "cell_type": "code",
   "execution_count": 48,
   "id": "9586dde7",
   "metadata": {},
   "outputs": [],
   "source": [
    "dict=()"
   ]
  },
  {
   "cell_type": "code",
   "execution_count": 49,
   "id": "6f56bd67",
   "metadata": {},
   "outputs": [],
   "source": [
    "dict={143:\"Suyash\",456:\"Rachitavya\"}"
   ]
  },
  {
   "cell_type": "code",
   "execution_count": 50,
   "id": "b82a4450",
   "metadata": {},
   "outputs": [
    {
     "data": {
      "text/plain": [
       "{143: 'Suyash', 456: 'Rachitavya'}"
      ]
     },
     "execution_count": 50,
     "metadata": {},
     "output_type": "execute_result"
    }
   ],
   "source": [
    "dict"
   ]
  },
  {
   "cell_type": "code",
   "execution_count": 51,
   "id": "3e25ebeb",
   "metadata": {},
   "outputs": [
    {
     "data": {
      "text/plain": [
       "'Suyash'"
      ]
     },
     "execution_count": 51,
     "metadata": {},
     "output_type": "execute_result"
    }
   ],
   "source": [
    "dict[143]           #displays key's value"
   ]
  },
  {
   "cell_type": "code",
   "execution_count": 52,
   "id": "80c8ca87",
   "metadata": {},
   "outputs": [
    {
     "data": {
      "text/plain": [
       "dict_keys([143, 456])"
      ]
     },
     "execution_count": 52,
     "metadata": {},
     "output_type": "execute_result"
    }
   ],
   "source": [
    "dict.keys()"
   ]
  },
  {
   "cell_type": "code",
   "execution_count": 53,
   "id": "dd09c8df",
   "metadata": {},
   "outputs": [
    {
     "data": {
      "text/plain": [
       "dict_items([(143, 'Suyash'), (456, 'Rachitavya')])"
      ]
     },
     "execution_count": 53,
     "metadata": {},
     "output_type": "execute_result"
    }
   ],
   "source": [
    "dict.items()           #displays items in a form of list"
   ]
  },
  {
   "cell_type": "code",
   "execution_count": 55,
   "id": "3e7d559d",
   "metadata": {},
   "outputs": [
    {
     "data": {
      "text/plain": [
       "[(1, 2), (3, 4), (5, 6)]"
      ]
     },
     "execution_count": 55,
     "metadata": {},
     "output_type": "execute_result"
    }
   ],
   "source": [
    "l1=[1,3,5]                                   #to create desired dictionary from 2 lists\n",
    "l2=[2,4,6]\n",
    "list=[]\n",
    "for i in range(len(l1)):\n",
    "    for j in range(len(l2)):\n",
    "        if i==j:\n",
    "            list.append((l1[i],l2[j]))\n",
    "list        "
   ]
  },
  {
   "cell_type": "code",
   "execution_count": 1,
   "id": "6fc51be2",
   "metadata": {},
   "outputs": [],
   "source": [
    "list1=[\"webd\",\"ml\",\"backend\",\"cloud\",\"c\",\"c++\",\"python\",\"go\",\"rust\"]\n",
    "list2=[\"dostor\",\"engineer\",\"sci\",\"teacher\"]\n",
    "dict={\"kanishk\":list1,\"jhonny sins\":list2}"
   ]
  },
  {
   "cell_type": "code",
   "execution_count": 2,
   "id": "10fb2b4f",
   "metadata": {},
   "outputs": [
    {
     "data": {
      "text/plain": [
       "['webd', 'ml', 'backend', 'cloud', 'c', 'c++', 'python', 'go', 'rust']"
      ]
     },
     "execution_count": 2,
     "metadata": {},
     "output_type": "execute_result"
    }
   ],
   "source": [
    "dict[\"kanishk\"]"
   ]
  },
  {
   "cell_type": "code",
   "execution_count": 61,
   "id": "2bec7b74",
   "metadata": {},
   "outputs": [
    {
     "data": {
      "text/plain": [
       "['dostor', 'engineer', 'sci', 'teacher']"
      ]
     },
     "execution_count": 61,
     "metadata": {},
     "output_type": "execute_result"
    }
   ],
   "source": [
    "dict[\"jhonny sins\"]"
   ]
  },
  {
   "cell_type": "code",
   "execution_count": 62,
   "id": "a9df8a17",
   "metadata": {},
   "outputs": [],
   "source": [
    "dict={143:\"Suyash\",456:\"Rachitavya\"}"
   ]
  },
  {
   "cell_type": "code",
   "execution_count": 64,
   "id": "40c2a493",
   "metadata": {},
   "outputs": [
    {
     "name": "stdout",
     "output_type": "stream",
     "text": [
      "143 Suyash\n",
      "456 Rachitavya\n"
     ]
    }
   ],
   "source": [
    "for keys,values in dict.items():           #LOOPING IN DICTIONARY\n",
    "    print(keys,values)"
   ]
  },
  {
   "cell_type": "code",
   "execution_count": 65,
   "id": "c16d8acb",
   "metadata": {},
   "outputs": [],
   "source": [
    "#string formating"
   ]
  },
  {
   "cell_type": "code",
   "execution_count": 66,
   "id": "73b3fb25",
   "metadata": {},
   "outputs": [
    {
     "name": "stdout",
     "output_type": "stream",
     "text": [
      "hello your age is 9\n"
     ]
    }
   ],
   "source": [
    "a=9\n",
    "print(f\"hello your age is {a}\")            #f is format specifier"
   ]
  },
  {
   "cell_type": "code",
   "execution_count": 4,
   "id": "bd8d1e4d",
   "metadata": {},
   "outputs": [],
   "source": [
    "l1=[1,3,5]\n",
    "l2=[2,4,6]\n",
    "list=l1,l2"
   ]
  },
  {
   "cell_type": "code",
   "execution_count": 5,
   "id": "338f6f8d",
   "metadata": {},
   "outputs": [
    {
     "data": {
      "text/plain": [
       "([1, 3, 5], [2, 4, 6])"
      ]
     },
     "execution_count": 5,
     "metadata": {},
     "output_type": "execute_result"
    }
   ],
   "source": [
    "list"
   ]
  },
  {
   "cell_type": "code",
   "execution_count": 1,
   "id": "b5821b4a",
   "metadata": {},
   "outputs": [],
   "source": [
    "l1=[1,3,5]\n",
    "l2=[2,4,6]\n",
    "list=[]\n",
    "list=[l1,l2]"
   ]
  },
  {
   "cell_type": "code",
   "execution_count": 2,
   "id": "bcb408c0",
   "metadata": {},
   "outputs": [
    {
     "data": {
      "text/plain": [
       "[[1, 3, 5], [2, 4, 6]]"
      ]
     },
     "execution_count": 2,
     "metadata": {},
     "output_type": "execute_result"
    }
   ],
   "source": [
    "list"
   ]
  },
  {
   "cell_type": "code",
   "execution_count": null,
   "id": "6a3c67c6",
   "metadata": {},
   "outputs": [],
   "source": []
  }
 ],
 "metadata": {
  "kernelspec": {
   "display_name": "Python 3 (ipykernel)",
   "language": "python",
   "name": "python3"
  },
  "language_info": {
   "codemirror_mode": {
    "name": "ipython",
    "version": 3
   },
   "file_extension": ".py",
   "mimetype": "text/x-python",
   "name": "python",
   "nbconvert_exporter": "python",
   "pygments_lexer": "ipython3",
   "version": "3.9.13"
  }
 },
 "nbformat": 4,
 "nbformat_minor": 5
}
