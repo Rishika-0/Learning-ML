{
 "cells": [
  {
   "cell_type": "code",
   "execution_count": 1,
   "id": "20b40cd6",
   "metadata": {},
   "outputs": [],
   "source": [
    "#programming languages other than c and c++ can't directly ascess address\n",
    "#c and c++ are very closely related to each other"
   ]
  },
  {
   "cell_type": "code",
   "execution_count": 2,
   "id": "d95e4bac",
   "metadata": {},
   "outputs": [],
   "source": [
    "import numpy as np"
   ]
  },
  {
   "cell_type": "code",
   "execution_count": 3,
   "id": "9aa90c98",
   "metadata": {},
   "outputs": [],
   "source": [
    "#creating an array\n",
    "arr=np.array([1,2,3,4,5])"
   ]
  },
  {
   "cell_type": "raw",
   "id": "6c4a4a59",
   "metadata": {},
   "source": []
  },
  {
   "cell_type": "code",
   "execution_count": 4,
   "id": "7a7fcb9e",
   "metadata": {},
   "outputs": [
    {
     "data": {
      "text/plain": [
       "array([1, 2, 3, 4, 5])"
      ]
     },
     "execution_count": 4,
     "metadata": {},
     "output_type": "execute_result"
    }
   ],
   "source": [
    "arr"
   ]
  },
  {
   "cell_type": "code",
   "execution_count": 5,
   "id": "b6b24930",
   "metadata": {},
   "outputs": [],
   "source": [
    "arr=np.array((1,2,3,4,5))"
   ]
  },
  {
   "cell_type": "code",
   "execution_count": 6,
   "id": "d1487f61",
   "metadata": {},
   "outputs": [
    {
     "data": {
      "text/plain": [
       "array([1, 2, 3, 4, 5])"
      ]
     },
     "execution_count": 6,
     "metadata": {},
     "output_type": "execute_result"
    }
   ],
   "source": [
    "arr"
   ]
  },
  {
   "cell_type": "code",
   "execution_count": 7,
   "id": "bc8b3637",
   "metadata": {},
   "outputs": [],
   "source": [
    "#datatype of an array\n",
    "\n",
    "arr=np.array([1,2,3,4],dtype=float)"
   ]
  },
  {
   "cell_type": "code",
   "execution_count": 8,
   "id": "98ba3aac",
   "metadata": {},
   "outputs": [
    {
     "data": {
      "text/plain": [
       "array([1., 2., 3., 4.])"
      ]
     },
     "execution_count": 8,
     "metadata": {},
     "output_type": "execute_result"
    }
   ],
   "source": [
    "arr"
   ]
  },
  {
   "cell_type": "code",
   "execution_count": 9,
   "id": "63275e88",
   "metadata": {},
   "outputs": [],
   "source": [
    "arr=np.array([1,2,3,4],dtype='S')"
   ]
  },
  {
   "cell_type": "code",
   "execution_count": 10,
   "id": "38219917",
   "metadata": {},
   "outputs": [],
   "source": [
    "arr=np.arange(40)"
   ]
  },
  {
   "cell_type": "code",
   "execution_count": 11,
   "id": "e8b8797d",
   "metadata": {},
   "outputs": [
    {
     "data": {
      "text/plain": [
       "array([ 0,  1,  2,  3,  4,  5,  6,  7,  8,  9, 10, 11, 12, 13, 14, 15, 16,\n",
       "       17, 18, 19, 20, 21, 22, 23, 24, 25, 26, 27, 28, 29, 30, 31, 32, 33,\n",
       "       34, 35, 36, 37, 38, 39])"
      ]
     },
     "execution_count": 11,
     "metadata": {},
     "output_type": "execute_result"
    }
   ],
   "source": [
    "arr"
   ]
  },
  {
   "cell_type": "code",
   "execution_count": 12,
   "id": "1a39ef01",
   "metadata": {},
   "outputs": [],
   "source": [
    "arr=np.arange(10,40)"
   ]
  },
  {
   "cell_type": "code",
   "execution_count": 13,
   "id": "0a91c755",
   "metadata": {},
   "outputs": [
    {
     "data": {
      "text/plain": [
       "array([10, 11, 12, 13, 14, 15, 16, 17, 18, 19, 20, 21, 22, 23, 24, 25, 26,\n",
       "       27, 28, 29, 30, 31, 32, 33, 34, 35, 36, 37, 38, 39])"
      ]
     },
     "execution_count": 13,
     "metadata": {},
     "output_type": "execute_result"
    }
   ],
   "source": [
    "arr"
   ]
  },
  {
   "cell_type": "code",
   "execution_count": 14,
   "id": "83e3e2ca",
   "metadata": {},
   "outputs": [],
   "source": [
    "arr=np.arange(10,40,2)"
   ]
  },
  {
   "cell_type": "code",
   "execution_count": 15,
   "id": "82bc7c4b",
   "metadata": {},
   "outputs": [
    {
     "data": {
      "text/plain": [
       "array([10, 12, 14, 16, 18, 20, 22, 24, 26, 28, 30, 32, 34, 36, 38])"
      ]
     },
     "execution_count": 15,
     "metadata": {},
     "output_type": "execute_result"
    }
   ],
   "source": [
    "arr"
   ]
  },
  {
   "cell_type": "code",
   "execution_count": 16,
   "id": "77770125",
   "metadata": {},
   "outputs": [
    {
     "data": {
      "text/plain": [
       "array([10, 12, 14, 16, 18, 40, 20, 22, 24, 26, 28, 30, 32, 34, 36, 38])"
      ]
     },
     "execution_count": 16,
     "metadata": {},
     "output_type": "execute_result"
    }
   ],
   "source": [
    "np.insert(arr,5,int(40))    #5th location   #check arguments using shift+tab on insert"
   ]
  },
  {
   "cell_type": "code",
   "execution_count": 17,
   "id": "d94ff447",
   "metadata": {},
   "outputs": [
    {
     "data": {
      "text/plain": [
       "array([10, 12, 14, 16, 18, 22, 24, 26, 28, 30, 32, 34, 36, 38])"
      ]
     },
     "execution_count": 17,
     "metadata": {},
     "output_type": "execute_result"
    }
   ],
   "source": [
    "np.delete(arr,5)"
   ]
  },
  {
   "cell_type": "code",
   "execution_count": 18,
   "id": "e88df07c",
   "metadata": {},
   "outputs": [
    {
     "data": {
      "text/plain": [
       "array([100,  10,  12,  14,  16,  18,  20,  22,  24,  26,  28,  30,  32,\n",
       "        34,  36,  38])"
      ]
     },
     "execution_count": 18,
     "metadata": {},
     "output_type": "execute_result"
    }
   ],
   "source": [
    "np.insert(arr,0,100)"
   ]
  },
  {
   "cell_type": "code",
   "execution_count": 19,
   "id": "e6de7c84",
   "metadata": {},
   "outputs": [
    {
     "data": {
      "text/plain": [
       "array([10, 12, 14, 16, 18, 20, 22, 24, 26, 28, 30, 32, 34, 36, 38])"
      ]
     },
     "execution_count": 19,
     "metadata": {},
     "output_type": "execute_result"
    }
   ],
   "source": [
    "arr"
   ]
  },
  {
   "cell_type": "code",
   "execution_count": 20,
   "id": "bc58046e",
   "metadata": {},
   "outputs": [],
   "source": [
    "#to overwrite wee will use assignment operator\n",
    "arr=np.insert(arr,0,100)"
   ]
  },
  {
   "cell_type": "code",
   "execution_count": 21,
   "id": "274216c1",
   "metadata": {},
   "outputs": [
    {
     "data": {
      "text/plain": [
       "array([100,  10,  12,  14,  16,  18,  20,  22,  24,  26,  28,  30,  32,\n",
       "        34,  36,  38])"
      ]
     },
     "execution_count": 21,
     "metadata": {},
     "output_type": "execute_result"
    }
   ],
   "source": [
    "arr"
   ]
  },
  {
   "cell_type": "code",
   "execution_count": 22,
   "id": "123e3845",
   "metadata": {},
   "outputs": [
    {
     "data": {
      "text/plain": [
       "array([100,  10,  12,  14,  16,  18,  20,  22,  24,  26,  28,  30,  32,\n",
       "        34,  36,  38,  50])"
      ]
     },
     "execution_count": 22,
     "metadata": {},
     "output_type": "execute_result"
    }
   ],
   "source": [
    "arr=np.append(arr,50)    #adds value at the end\n",
    "arr"
   ]
  },
  {
   "cell_type": "code",
   "execution_count": 25,
   "id": "d00a4896",
   "metadata": {},
   "outputs": [],
   "source": [
    "arr=arr.astype(float)   #for operating various functions search numpy.org documentation"
   ]
  },
  {
   "cell_type": "code",
   "execution_count": 26,
   "id": "d217078e",
   "metadata": {},
   "outputs": [
    {
     "data": {
      "text/plain": [
       "array([100.,  10.,  12.,  14.,  16.,  18.,  20.,  22.,  24.,  26.,  28.,\n",
       "        30.,  32.,  34.,  36.,  38.,  50.])"
      ]
     },
     "execution_count": 26,
     "metadata": {},
     "output_type": "execute_result"
    }
   ],
   "source": [
    "arr"
   ]
  },
  {
   "cell_type": "code",
   "execution_count": 27,
   "id": "4ff98397",
   "metadata": {},
   "outputs": [
    {
     "data": {
      "text/plain": [
       "array([100,  10,  12,  14,  16,  18,  20,  22,  24,  26,  28,  30,  32,\n",
       "        34,  36,  38,  50])"
      ]
     },
     "execution_count": 27,
     "metadata": {},
     "output_type": "execute_result"
    }
   ],
   "source": [
    "arr=arr.astype(int) \n",
    "arr"
   ]
  },
  {
   "cell_type": "code",
   "execution_count": 29,
   "id": "6e46712c",
   "metadata": {},
   "outputs": [
    {
     "data": {
      "text/plain": [
       "array([[ 1,  2,  3,  4],\n",
       "       [ 5,  6,  7,  8],\n",
       "       [ 9, 10, 11, 12]])"
      ]
     },
     "execution_count": 29,
     "metadata": {},
     "output_type": "execute_result"
    }
   ],
   "source": [
    "mat=np.array([[1,2,3,4],[5,6,7,8],[9,10,11,12]])\n",
    "mat"
   ]
  },
  {
   "cell_type": "code",
   "execution_count": 30,
   "id": "aa1a58ac",
   "metadata": {},
   "outputs": [
    {
     "name": "stdout",
     "output_type": "stream",
     "text": [
      "[100  10  12  14  16  18  20  22  24  26  28  30  32  34  36  38  50]\n"
     ]
    }
   ],
   "source": [
    "print(arr)"
   ]
  },
  {
   "cell_type": "code",
   "execution_count": 31,
   "id": "25f3f6d2",
   "metadata": {},
   "outputs": [
    {
     "name": "stdout",
     "output_type": "stream",
     "text": [
      "[[ 1  2  3  4]\n",
      " [ 5  6  7  8]\n",
      " [ 9 10 11 12]]\n"
     ]
    }
   ],
   "source": [
    "print(mat)"
   ]
  },
  {
   "cell_type": "code",
   "execution_count": 33,
   "id": "fb6489ab",
   "metadata": {},
   "outputs": [
    {
     "name": "stderr",
     "output_type": "stream",
     "text": [
      "C:\\Users\\rishi\\AppData\\Local\\Temp\\ipykernel_6408\\1694934729.py:1: VisibleDeprecationWarning: Creating an ndarray from ragged nested sequences (which is a list-or-tuple of lists-or-tuples-or ndarrays with different lengths or shapes) is deprecated. If you meant to do this, you must specify 'dtype=object' when creating the ndarray.\n",
      "  mat1=np.array([[[1,2],(3,4)],[1,2],[(3,4),[2,4]]])\n"
     ]
    },
    {
     "data": {
      "text/plain": [
       "array([[list([1, 2]), (3, 4)],\n",
       "       [1, 2],\n",
       "       [(3, 4), list([2, 4])]], dtype=object)"
      ]
     },
     "execution_count": 33,
     "metadata": {},
     "output_type": "execute_result"
    }
   ],
   "source": [
    "mat1=np.array([[[1,2],(3,4)],[1,2],[(3,4),[2,4]]])\n",
    "mat1"
   ]
  },
  {
   "cell_type": "code",
   "execution_count": 34,
   "id": "f0e994ce",
   "metadata": {},
   "outputs": [
    {
     "name": "stdout",
     "output_type": "stream",
     "text": [
      "3.5594735145568848\n"
     ]
    }
   ],
   "source": [
    "#speed list\n",
    "a=[i for i in range(10000000)]\n",
    "b=[i for i in range(10000000,20000000)]\n",
    "c=[]\n",
    "import time\n",
    "start=time.time()\n",
    "for i in range(len(a)):\n",
    "    c.append(a[i]+b[i])\n",
    "print(time.time()-start)    "
   ]
  },
  {
   "cell_type": "code",
   "execution_count": 39,
   "id": "336f5107",
   "metadata": {},
   "outputs": [
    {
     "name": "stdout",
     "output_type": "stream",
     "text": [
      "0.027425765991210938\n"
     ]
    }
   ],
   "source": [
    "arr1=np.arange(10000000)\n",
    "arr2=np.arange(10000000,20000000)\n",
    "import time\n",
    "start=time.time()\n",
    "c=arr1+arr2\n",
    "print(time.time()-start)      #operators are implemented directly in numpy"
   ]
  },
  {
   "cell_type": "code",
   "execution_count": 40,
   "id": "6ab77c0d",
   "metadata": {},
   "outputs": [
    {
     "data": {
      "text/plain": [
       "161.86448385629834"
      ]
     },
     "execution_count": 40,
     "metadata": {},
     "output_type": "execute_result"
    }
   ],
   "source": [
    "3.5594/0.02199"
   ]
  },
  {
   "cell_type": "code",
   "execution_count": 41,
   "id": "aa7a6388",
   "metadata": {},
   "outputs": [
    {
     "data": {
      "text/plain": [
       "6"
      ]
     },
     "execution_count": 41,
     "metadata": {},
     "output_type": "execute_result"
    }
   ],
   "source": [
    "mat[1,1]"
   ]
  },
  {
   "cell_type": "code",
   "execution_count": 42,
   "id": "6b993c37",
   "metadata": {},
   "outputs": [
    {
     "data": {
      "text/plain": [
       "7"
      ]
     },
     "execution_count": 42,
     "metadata": {},
     "output_type": "execute_result"
    }
   ],
   "source": [
    "mat[1,2]"
   ]
  },
  {
   "cell_type": "code",
   "execution_count": 45,
   "id": "c6405464",
   "metadata": {},
   "outputs": [
    {
     "name": "stdout",
     "output_type": "stream",
     "text": [
      "2\n",
      "6\n",
      "10\n"
     ]
    }
   ],
   "source": [
    "for i in range(3):\n",
    "    print(mat[i,1])"
   ]
  },
  {
   "cell_type": "code",
   "execution_count": 50,
   "id": "3f98fea8",
   "metadata": {},
   "outputs": [],
   "source": [
    "d3=np.array([[[1,2,3,4],[5,6,7,8]],[[9,10,11,12],[13,14,15,16]]])"
   ]
  },
  {
   "cell_type": "code",
   "execution_count": 51,
   "id": "e95d2638",
   "metadata": {},
   "outputs": [
    {
     "data": {
      "text/plain": [
       "array([[[ 1,  2,  3,  4],\n",
       "        [ 5,  6,  7,  8]],\n",
       "\n",
       "       [[ 9, 10, 11, 12],\n",
       "        [13, 14, 15, 16]]])"
      ]
     },
     "execution_count": 51,
     "metadata": {},
     "output_type": "execute_result"
    }
   ],
   "source": [
    "d3"
   ]
  },
  {
   "cell_type": "code",
   "execution_count": 52,
   "id": "6579dfc7",
   "metadata": {},
   "outputs": [
    {
     "data": {
      "text/plain": [
       "array([ 9, 10, 11, 12])"
      ]
     },
     "execution_count": 52,
     "metadata": {},
     "output_type": "execute_result"
    }
   ],
   "source": [
    "d3[1,0]"
   ]
  },
  {
   "cell_type": "code",
   "execution_count": 53,
   "id": "b392cca7",
   "metadata": {},
   "outputs": [
    {
     "data": {
      "text/plain": [
       "11"
      ]
     },
     "execution_count": 53,
     "metadata": {},
     "output_type": "execute_result"
    }
   ],
   "source": [
    "d3[1,0,2]"
   ]
  },
  {
   "cell_type": "code",
   "execution_count": 55,
   "id": "f8ffd2a6",
   "metadata": {},
   "outputs": [
    {
     "ename": "TypeError",
     "evalue": "array() got an unexpected keyword argument 'ndarray'",
     "output_type": "error",
     "traceback": [
      "\u001b[1;31m---------------------------------------------------------------------------\u001b[0m",
      "\u001b[1;31mTypeError\u001b[0m                                 Traceback (most recent call last)",
      "\u001b[1;32m~\\AppData\\Local\\Temp\\ipykernel_6408\\2729640289.py\u001b[0m in \u001b[0;36m<module>\u001b[1;34m\u001b[0m\n\u001b[1;32m----> 1\u001b[1;33m \u001b[0mdn\u001b[0m\u001b[1;33m=\u001b[0m\u001b[0mnp\u001b[0m\u001b[1;33m.\u001b[0m\u001b[0marray\u001b[0m\u001b[1;33m(\u001b[0m\u001b[1;33m[\u001b[0m\u001b[1;36m3\u001b[0m\u001b[1;33m]\u001b[0m\u001b[1;33m,\u001b[0m\u001b[0mndarray\u001b[0m\u001b[1;33m=\u001b[0m\u001b[1;36m5\u001b[0m\u001b[1;33m)\u001b[0m\u001b[1;33m\u001b[0m\u001b[1;33m\u001b[0m\u001b[0m\n\u001b[0m",
      "\u001b[1;31mTypeError\u001b[0m: array() got an unexpected keyword argument 'ndarray'"
     ]
    }
   ],
   "source": [
    "dn=np.array([3],ndarray=5)"
   ]
  },
  {
   "cell_type": "markdown",
   "id": "a9c3121b",
   "metadata": {},
   "source": [
    "# Task 1:\n",
    "1- searching an element in an array.\n",
    "2- finding largest element in an array.\n",
    "3- finding smallest element in an array.\n",
    "4- reversing an array\n",
    "5- rotating an array from k'th position"
   ]
  },
  {
   "cell_type": "code",
   "execution_count": 1,
   "id": "cc4f67ba",
   "metadata": {},
   "outputs": [],
   "source": [
    "import numpy as np\n",
    "arr=np.arange(10)"
   ]
  },
  {
   "cell_type": "code",
   "execution_count": 2,
   "id": "3384e1dc",
   "metadata": {},
   "outputs": [
    {
     "data": {
      "text/plain": [
       "array([0, 1, 2, 3, 4, 5, 6, 7, 8, 9])"
      ]
     },
     "execution_count": 2,
     "metadata": {},
     "output_type": "execute_result"
    }
   ],
   "source": [
    "arr"
   ]
  },
  {
   "cell_type": "code",
   "execution_count": 4,
   "id": "0f0ad349",
   "metadata": {},
   "outputs": [
    {
     "name": "stdout",
     "output_type": "stream",
     "text": [
      "enter the element to be searched4\n",
      "element is present at 4 location in arr\n"
     ]
    }
   ],
   "source": [
    "n=int(input(\"enter the element to be searched\"))                             #1st program\n",
    "for i in arr:\n",
    "    if arr[i]==n:                                                              #all programs done from here on were just trial,\n",
    "        print (\"element is present at\",i,\"location in arr\")                      #they are wrong, Refer TASK1\n",
    "        break\n",
    "else:\n",
    "    print(\"not found\")"
   ]
  },
  {
   "cell_type": "code",
   "execution_count": 5,
   "id": "b1f298ec",
   "metadata": {},
   "outputs": [
    {
     "name": "stdout",
     "output_type": "stream",
     "text": [
      "9\n"
     ]
    }
   ],
   "source": [
    "for i in arr:\n",
    "    l=arr[i]\n",
    "    for j in arr:                                                     #2nd program\n",
    "        if arr[j]>l:\n",
    "            l=arr[j]\n",
    "            break\n",
    "print(l)            "
   ]
  },
  {
   "cell_type": "code",
   "execution_count": 6,
   "id": "c4208a30",
   "metadata": {},
   "outputs": [
    {
     "name": "stdout",
     "output_type": "stream",
     "text": [
      "9\n"
     ]
    }
   ],
   "source": [
    "l=arr[0]\n",
    "for i in arr:\n",
    "    if arr[i]>l:                                                     #2nd program\n",
    "        l=arr[i]\n",
    "print(l)        "
   ]
  },
  {
   "cell_type": "code",
   "execution_count": 7,
   "id": "949ce04c",
   "metadata": {},
   "outputs": [
    {
     "name": "stdout",
     "output_type": "stream",
     "text": [
      "0\n"
     ]
    }
   ],
   "source": [
    "s=arr[0]\n",
    "for i in arr:for i in arr:\n",
    "    for j in arr:\n",
    "        t=arr[j-1]\n",
    "        arr[j-1]=arr[j]\n",
    "        arr[j]=t\n",
    "        \n",
    "print(arr)   \n",
    "    if arr[i]<s:\n",
    "        s=arr[i]\n",
    "print(s)        "
   ]
  },
  {
   "cell_type": "code",
   "execution_count": 16,
   "id": "0146719a",
   "metadata": {},
   "outputs": [
    {
     "name": "stdout",
     "output_type": "stream",
     "text": [
      "[0 0 0 0 0 0 0 0 9 9]\n"
     ]
    }
   ],
   "source": [
    "for i in arr:\n",
    "    for j in arr:\n",
    "        t=arr[j-1]\n",
    "        arr[j-1]=arr[j]\n",
    "        arr[j]=t\n",
    "        \n",
    "print(arr)        "
   ]
  },
  {
   "cell_type": "code",
   "execution_count": 17,
   "id": "ca7fd3a7",
   "metadata": {},
   "outputs": [
    {
     "data": {
      "text/plain": [
       "10"
      ]
     },
     "execution_count": 17,
     "metadata": {},
     "output_type": "execute_result"
    }
   ],
   "source": [
    "len(arr)"
   ]
  },
  {
   "cell_type": "code",
   "execution_count": 18,
   "id": "b7101a2b",
   "metadata": {},
   "outputs": [
    {
     "name": "stdout",
     "output_type": "stream",
     "text": [
      "0\n",
      "0\n",
      "0\n",
      "0\n",
      "0\n",
      "0\n",
      "0\n",
      "0\n",
      "9\n",
      "9\n"
     ]
    }
   ],
   "source": [
    "for i in arr:\n",
    "    print(i)"
   ]
  },
  {
   "cell_type": "code",
   "execution_count": 19,
   "id": "a9a507ad",
   "metadata": {},
   "outputs": [],
   "source": [
    "arr=np.arange(10)"
   ]
  },
  {
   "cell_type": "code",
   "execution_count": 20,
   "id": "4b7c122d",
   "metadata": {},
   "outputs": [
    {
     "name": "stdout",
     "output_type": "stream",
     "text": [
      "0\n",
      "1\n",
      "2\n",
      "3\n",
      "4\n",
      "5\n",
      "6\n",
      "7\n",
      "8\n",
      "9\n"
     ]
    }
   ],
   "source": [
    "for i in arr:\n",
    "    print(i)"
   ]
  },
  {
   "cell_type": "code",
   "execution_count": null,
   "id": "70452ff3",
   "metadata": {},
   "outputs": [],
   "source": []
  }
 ],
 "metadata": {
  "kernelspec": {
   "display_name": "Python 3 (ipykernel)",
   "language": "python",
   "name": "python3"
  },
  "language_info": {
   "codemirror_mode": {
    "name": "ipython",
    "version": 3
   },
   "file_extension": ".py",
   "mimetype": "text/x-python",
   "name": "python",
   "nbconvert_exporter": "python",
   "pygments_lexer": "ipython3",
   "version": "3.9.13"
  }
 },
 "nbformat": 4,
 "nbformat_minor": 5
}
